{
 "cells": [
  {
   "cell_type": "code",
   "execution_count": 1,
   "metadata": {
    "collapsed": true
   },
   "outputs": [],
   "source": [
    "import numpy as np\n",
    "import pandas as pd\n",
    "import matplotlib.pyplot as plt\n",
    "import GPy\n",
    "import GPyOpt\n",
    "import sys\n",
    "from matplotlib.collections import EllipseCollection\n",
    "\n",
    "%matplotlib inline"
   ]
  },
  {
   "cell_type": "code",
   "execution_count": 36,
   "metadata": {},
   "outputs": [
    {
     "data": {
      "text/plain": [
       "<paramz.optimization.optimization.opt_lbfgsb at 0x7f816c563c18>"
      ]
     },
     "execution_count": 36,
     "metadata": {},
     "output_type": "execute_result"
    }
   ],
   "source": [
    "bd = pd.read_csv('../PatternRecognitionOptimization/observations/observations.csv').dropna()\n",
    "observations_ggpm = pd.read_csv('data/observations_500_ggpm.csv').dropna()\n",
    "bd = bd.append(observations_ggpm.drop(['total'], axis=1))\n",
    "\n",
    "binomial = GPy.likelihoods.Binomial()\n",
    "trials_t = np.array(len(bd) * [[500]])\n",
    "X_t = bd[bd.columns[:-2]].values\n",
    "Y_t = bd[['reco_passed_no_clones']].values\n",
    "t_f = GPy.core.GP(X_t, Y_t, kernel=GPy.kern.RBF(7), \n",
    "                  Y_metadata={'trials': trials_t},\n",
    "                  inference_method=GPy.inference.latent_function_inference.laplace.Laplace(),\n",
    "                  likelihood=binomial)\n",
    "\n",
    "t_f.optimize()"
   ]
  },
  {
   "cell_type": "code",
   "execution_count": 37,
   "metadata": {
    "collapsed": true
   },
   "outputs": [],
   "source": [
    "observations_ggpm = pd.read_csv('data/observations_500_ggpm.csv').dropna()\n",
    "\n",
    "true_value_in_argmins = []\n",
    "\n",
    "for n_i in np.arange(20, len(observations_ggpm)):\n",
    "    \n",
    "    binomial = GPy.likelihoods.Binomial()\n",
    "    X_t = observations_ggpm[observations_ggpm.columns[:-3]].values[:n_i]\n",
    "    Y_t = observations_ggpm[['reco_passed_no_clones']].values[:n_i]\n",
    "    trials_t = observations_ggpm[['total']].values[:n_i]\n",
    "    \n",
    "    m_t = GPy.core.GP(X_t, Y_t, kernel=GPy.kern.RBF(7), \n",
    "                      Y_metadata={'trials': trials_t},\n",
    "                      inference_method=GPy.inference.latent_function_inference.laplace.Laplace(),\n",
    "                      likelihood=binomial)\n",
    "    m_t.optimize()\n",
    "    \n",
    "    argmax = X_t[np.argmax(m_t._raw_predict(X_t)[0])].reshape(1, -1)\n",
    "    true_value = binomial.gp_link.transf(t_f._raw_predict(argmax)[0][0][0])\n",
    "    \n",
    "    true_value_in_argmins.append(true_value)"
   ]
  },
  {
   "cell_type": "code",
   "execution_count": 38,
   "metadata": {},
   "outputs": [
    {
     "data": {
      "text/plain": [
       "[<matplotlib.lines.Line2D at 0x7f816c45e940>]"
      ]
     },
     "execution_count": 38,
     "metadata": {},
     "output_type": "execute_result"
    },
    {
     "data": {
      "image/png": "[encoded data removed]",
      "text/plain": [
       "<matplotlib.figure.Figure at 0x7f816835b630>"
      ]
     },
     "metadata": {},
     "output_type": "display_data"
    }
   ],
   "source": [
    "plt.plot(true_value_in_argmins)"
   ]
  },
  {
   "cell_type": "code",
   "execution_count": 39,
   "metadata": {
    "collapsed": true
   },
   "outputs": [],
   "source": [
    "observations_gp = pd.read_csv('data/observations_500_gp.csv').dropna()\n",
    "\n",
    "true_value_in_argmins_gp = []\n",
    "\n",
    "for n_i in np.arange(20, len(observations_gp)):\n",
    "    \n",
    "    binomial = GPy.likelihoods.Binomial()\n",
    "    X_t = observations_ggpm[observations_ggpm.columns[:-3]].values[:n_i]\n",
    "    Y_t = observations_ggpm[['reco_passed_no_clones']].values[:n_i]\n",
    "    trials_t = observations_ggpm[['total']].values[:n_i]\n",
    "    \n",
    "    m_t = GPy.models.GPRegression(X_t, Y_t/trials_t, kernel=GPy.kern.RBF(7))\n",
    "    m_t.optimize()\n",
    "    \n",
    "    argmax = X_t[np.argmax(m_t.predict(X_t)[0])].reshape(1, -1)\n",
    "    true_value = binomial.gp_link.transf(t_f._raw_predict(argmax)[0][0][0])\n",
    "    \n",
    "    true_value_in_argmins_gp.append(true_value)"
   ]
  },
  {
   "cell_type": "code",
   "execution_count": 40,
   "metadata": {},
   "outputs": [
    {
     "data": {
      "text/plain": [
       "[<matplotlib.lines.Line2D at 0x7f81689cee10>]"
      ]
     },
     "execution_count": 40,
     "metadata": {},
     "output_type": "execute_result"
    },
    {
     "data": {
      "image/png": "[encoded data removed]",
      "text/plain": [
       "<matplotlib.figure.Figure at 0x7f81683565c0>"
      ]
     },
     "metadata": {},
     "output_type": "display_data"
    }
   ],
   "source": [
    "plt.plot(true_value_in_argmins_gp)\n",
    "plt.plot(true_value_in_argmins)"
   ]
  },
  {
   "cell_type": "code",
   "execution_count": 41,
   "metadata": {},
   "outputs": [
    {
     "data": {
      "text/plain": [
       "[<matplotlib.lines.Line2D at 0x7f8168a210f0>]"
      ]
     },
     "execution_count": 41,
     "metadata": {},
     "output_type": "execute_result"
    },
    {
     "data": {
      "image/png": "[encoded data removed]",
      "text/plain": [
       "<matplotlib.figure.Figure at 0x7f8168505dd8>"
      ]
     },
     "metadata": {},
     "output_type": "display_data"
    }
   ],
   "source": [
    "plt.plot(np.maximum.accumulate(observations_ggpm.reco_passed_no_clones))\n",
    "plt.plot(np.maximum.accumulate(observations_gp.reco_passed_no_clones))"
   ]
  },
  {
   "cell_type": "code",
   "execution_count": null,
   "metadata": {
    "collapsed": true
   },
   "outputs": [],
   "source": []
  }
 ],
 "metadata": {
  "kernelspec": {
   "display_name": "Python 3",
   "language": "python",
   "name": "python3"
  },
  "language_info": {
   "codemirror_mode": {
    "name": "ipython",
    "version": 3
   },
   "file_extension": ".py",
   "mimetype": "text/x-python",
   "name": "python",
   "nbconvert_exporter": "python",
   "pygments_lexer": "ipython3",
   "version": "3.6.3"
  }
 },
 "nbformat": 4,
 "nbformat_minor": 2
}
