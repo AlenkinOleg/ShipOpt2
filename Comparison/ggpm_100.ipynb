{
 "cells": [
  {
   "cell_type": "code",
   "execution_count": 1,
   "metadata": {
    "collapsed": true
   },
   "outputs": [],
   "source": [
    "import GPyOpt\n",
    "import GPy\n",
    "import numpy as np\n",
    "import pandas as pd\n",
    "import re\n",
    "import json\n",
    "import sys\n",
    "\n",
    "sys.path.append(\"../../devel/\")\n",
    "\n",
    "from binomial_optimization import optimization_step, get_new_point, fidelity_decision"
   ]
  },
  {
   "cell_type": "code",
   "execution_count": 2,
   "metadata": {
    "collapsed": true
   },
   "outputs": [],
   "source": [
    "N_EVENTS = 100\n",
    "N_EVENTS_high = 100\n",
    "treshold_proba = 0.5\n",
    "method = 'ggpm'"
   ]
  },
  {
   "cell_type": "markdown",
   "metadata": {},
   "source": [
    "# Optimization space"
   ]
  },
  {
   "cell_type": "code",
   "execution_count": 3,
   "metadata": {
    "collapsed": true
   },
   "outputs": [],
   "source": [
    "min_dist = 3.6\n",
    "radius = 2\n",
    "\n",
    "space = [{'name': 'pitch', 'type': 'continuous', 'domain': (min_dist, min_dist)},\\\n",
    "         {'name': 'yoffset_layer', 'type': 'continuous', 'domain': (min_dist/2, min_dist)},\\\n",
    "         {'name': 'yoffset_plane', 'type': 'continuous', 'domain': (min_dist*0.25, min_dist*1.25)},\\\n",
    "         {'name': 'zshift_layer', 'type': 'continuous', 'domain': (1, 15)},\\\n",
    "         {'name': 'zshift_plane', 'type': 'continuous', 'domain': (1, 15)},\\\n",
    "         {'name': 'zshift_view', 'type': 'continuous', 'domain': (10, 15)},\\\n",
    "         {'name': 'alpha', 'type': 'continuous', 'domain': (5, 15)}]\n",
    "\n",
    "constraints = [{'name': 'constr_1', 'constrain': '-(x[:,0]-x[:,1])**2-x[:,3]**2+'+str(radius)+'**2'},\\\n",
    "               {'name': 'constr_2', 'constrain': '-(x[:,1]-x[:,2])**2-(x[:,3]-x[:,4])**2+'+str(radius)+'**2'},\\\n",
    "               {'name': 'constr_3', 'constrain': 'x[:,3]+x[:,4]+'+str(radius)+'-x[:,5]'},\n",
    "               {'name': 'constr_4', 'constrain': 'x[:,3]+'+str(radius)+'-x[:,4]'}]\n",
    "\n",
    "lower_bounds = [min_dist, min_dist/2, min_dist*0.25, 1, 1, 10, 5]\n",
    "upper_bounds = [min_dist, min_dist, min_dist*1.25, 15, 15, 15, 15]\n",
    "constraints_opt = [{'type': 'ineq', 'fun': lambda t: -(t[0]-t[1])**2-t[3]**2+radius**2},\n",
    "                   {'type': 'ineq', 'fun': lambda t: -(t[1]-t[2])**2-(t[3]-t[4])**2+radius**2},\n",
    "                   {'type': 'ineq', 'fun': lambda t: t[3]+t[4]+radius-t[5]},\n",
    "                   {'type': 'ineq', 'fun': lambda t: t[3]+radius-t[4]}]"
   ]
  },
  {
   "cell_type": "code",
   "execution_count": 4,
   "metadata": {
    "collapsed": true
   },
   "outputs": [],
   "source": [
    "feasible_region = GPyOpt.Design_space(space=space, constraints=constraints)\n",
    "\n",
    "np.random.seed(7)"
   ]
  },
  {
   "cell_type": "markdown",
   "metadata": {
    "collapsed": true
   },
   "source": [
    "# Import skygrid client"
   ]
  },
  {
   "cell_type": "code",
   "execution_count": 5,
   "metadata": {
    "collapsed": true
   },
   "outputs": [],
   "source": [
    "import time\n",
    "import json\n",
    "\n",
    "from disneylandClient import (\n",
    "    new_client,\n",
    "    Job,\n",
    "    RequestWithId,\n",
    ")"
   ]
  },
  {
   "cell_type": "code",
   "execution_count": 6,
   "metadata": {
    "collapsed": true
   },
   "outputs": [],
   "source": [
    "STATUS_IN_PROCESS = set([\n",
    "    Job.PENDING,\n",
    "    Job.PULLED,\n",
    "    Job.RUNNING,\n",
    "])\n",
    "STATUS_FINAL = set([\n",
    "    Job.COMPLETED,\n",
    "    Job.FAILED,\n",
    "])"
   ]
  },
  {
   "cell_type": "code",
   "execution_count": 7,
   "metadata": {
    "collapsed": true
   },
   "outputs": [],
   "source": [
    "def return_descriptor(point, n_events=N_EVENTS):\n",
    "    \n",
    "    pitch, yoffset_layer, yoffset_plane, zshift_layer, zshift_plane, zshift_view, alpha = point\n",
    "    \n",
    "    cmd = \"/opt/disney-run.sh python /opt/objective.py --pitch \"+str(pitch)+\" --yoffset_layer \"+str(yoffset_layer)+\\\n",
    "        \" --yoffset_plane \"+str(yoffset_plane)+\" --zshift_layer \"+str(zshift_layer)+\" --zshift_plane \"+\\\n",
    "        str(zshift_plane)+\" --zshift_view \"+str(zshift_view)+\" --alpha \"+str(int(alpha))+\\\n",
    "        \" --nEvents \"+str(n_events)+\" --method Baseline\"\n",
    "\n",
    "    descriptor = {\n",
    "        \"input\": [],\n",
    "\n",
    "        \"container\": {\n",
    "            \"workdir\": \"\",\n",
    "            \"name\": \"oleg94/ship_metric:latest\",\n",
    "            \"cpu_needed\": 1,\n",
    "            \"max_memoryMB\": 4096,\n",
    "            \"min_memoryMB\": 1024,\n",
    "            \"cmd\": cmd,\n",
    "        },\n",
    "\n",
    "        \"required_outputs\": {\n",
    "            \"output_uri\": \"none:\",\n",
    "            \"file_contents\": [\n",
    "                {\"file\": \"output.txt\", \"to_variable\": \"out\"}\n",
    "            ]\n",
    "        }\n",
    "    }\n",
    "    \n",
    "    return descriptor"
   ]
  },
  {
   "cell_type": "markdown",
   "metadata": {},
   "source": [
    "# Initial design"
   ]
  },
  {
   "cell_type": "code",
   "execution_count": 19,
   "metadata": {
    "collapsed": true
   },
   "outputs": [],
   "source": [
    "n_estimators = 20\n",
    "n_initial_design = 20\n",
    "initial_design = GPyOpt.experiment_design.initial_design('random', feasible_region, n_initial_design)\n",
    "initial_objective = np.zeros(n_initial_design)\n",
    "stub = new_client()\n",
    "jobs = []"
   ]
  },
  {
   "cell_type": "code",
   "execution_count": null,
   "metadata": {
    "collapsed": true
   },
   "outputs": [],
   "source": [
    "init_d_i = 0\n",
    "\n",
    "for epoch in range(n_initial_design // n_estimators):\n",
    "    \n",
    "    print(\"EPOCH #\"+str(epoch)+\" started.\")\n",
    "    \n",
    "    epoch_jobs = [0] * n_estimators\n",
    "    \n",
    "    for k in range(n_estimators):\n",
    "        descriptor = return_descriptor(initial_design[init_d_i])\n",
    "        init_d_i += 1\n",
    "        epoch_jobs[k] = Job(input=json.dumps(descriptor), kind=\"docker\")\n",
    "        epoch_jobs[k] = stub.CreateJob(epoch_jobs[k])\n",
    "        print(k, \" pushed\")\n",
    "    \n",
    "    prev_number_of_finished_jobs = 0\n",
    "    prev_number_of_running_jobs = 0\n",
    "    prev_number_of_pending_jobs = 0\n",
    "    \n",
    "    while True:\n",
    "        for k in range(n_estimators):\n",
    "            epoch_jobs[k] = stub.GetJob(RequestWithId(id=epoch_jobs[k].id))\n",
    "        \n",
    "        number_of_finished_jobs = 0\n",
    "        number_of_running_jobs = 0\n",
    "        number_of_pending_jobs = 0\n",
    "        for k in range(n_estimators):\n",
    "            if epoch_jobs[k].status in STATUS_FINAL:\n",
    "                number_of_finished_jobs += 1\n",
    "            if epoch_jobs[k].status == Job.PENDING:\n",
    "                number_of_pending_jobs += 1\n",
    "            if epoch_jobs[k].status == Job.RUNNING:\n",
    "                number_of_running_jobs += 1\n",
    "                \n",
    "        if (number_of_finished_jobs != prev_number_of_finished_jobs) or (prev_number_of_running_jobs != number_of_running_jobs) or (prev_number_of_pending_jobs != number_of_pending_jobs):\n",
    "            print(\"Finished jobs: \"+str(number_of_finished_jobs)+\\\n",
    "                  \" Running jobs: \"+str(number_of_running_jobs)+\\\n",
    "                  \" Pending jobs: \"+str(number_of_pending_jobs))\n",
    "            prev_number_of_finished_jobs = number_of_finished_jobs\n",
    "            prev_number_of_running_jobs = number_of_running_jobs\n",
    "            prev_number_of_pending_jobs = number_of_pending_jobs\n",
    "            \n",
    "        if number_of_finished_jobs == n_estimators:\n",
    "            break\n",
    "        time.sleep(10)\n",
    "    \n",
    "    jobs += epoch_jobs"
   ]
  },
  {
   "cell_type": "code",
   "execution_count": null,
   "metadata": {
    "collapsed": true
   },
   "outputs": [],
   "source": [
    "df_init_design = pd.DataFrame(initial_design, columns=['pitch', 'yoffset_layer', 'yoffset_plane', 'zshift_layer', 'zshift_plane', 'zshift_view', 'alpha'])\n",
    "df_init_design['reconstructible'] = [float(json.loads(re.sub(r\"\\\\\", '', job.output[15:-2]))['reconstructible']) if re.sub(r\"\\\\\", '', job.output[15:-2]) else np.nan for job in jobs]\n",
    "df_init_design['reco_passed_no_clones'] = [float(json.loads(re.sub(r\"\\\\\", '', job.output[15:-2]))['reco_passed_no_clones']) if re.sub(r\"\\\\\", '', job.output[15:-2]) else np.nan for job in jobs]"
   ]
  },
  {
   "cell_type": "code",
   "execution_count": 23,
   "metadata": {},
   "outputs": [
    {
     "data": {
      "text/html": [
       "<div>\n",
       "<style>\n",
       "    .dataframe thead tr:only-child th {\n",
       "        text-align: right;\n",
       "    }\n",
       "\n",
       "    .dataframe thead th {\n",
       "        text-align: left;\n",
       "    }\n",
       "\n",
       "    .dataframe tbody tr th {\n",
       "        vertical-align: top;\n",
       "    }\n",
       "</style>\n",
       "<table border=\"1\" class=\"dataframe\">\n",
       "  <thead>\n",
       "    <tr style=\"text-align: right;\">\n",
       "      <th></th>\n",
       "      <th>pitch</th>\n",
       "      <th>yoffset_layer</th>\n",
       "      <th>yoffset_plane</th>\n",
       "      <th>zshift_layer</th>\n",
       "      <th>zshift_plane</th>\n",
       "      <th>zshift_view</th>\n",
       "      <th>alpha</th>\n",
       "      <th>reconstructible</th>\n",
       "      <th>reco_passed_no_clones</th>\n",
       "    </tr>\n",
       "  </thead>\n",
       "  <tbody>\n",
       "    <tr>\n",
       "      <th>0</th>\n",
       "      <td>3.6</td>\n",
       "      <td>2.214545</td>\n",
       "      <td>3.266638</td>\n",
       "      <td>1.743802</td>\n",
       "      <td>7.273689</td>\n",
       "      <td>14.064148</td>\n",
       "      <td>6.695237</td>\n",
       "      <td>33.0</td>\n",
       "      <td>30.0</td>\n",
       "    </tr>\n",
       "    <tr>\n",
       "      <th>1</th>\n",
       "      <td>3.6</td>\n",
       "      <td>1.976017</td>\n",
       "      <td>3.876997</td>\n",
       "      <td>2.514574</td>\n",
       "      <td>4.862383</td>\n",
       "      <td>14.636042</td>\n",
       "      <td>6.923636</td>\n",
       "      <td>48.0</td>\n",
       "      <td>47.0</td>\n",
       "    </tr>\n",
       "    <tr>\n",
       "      <th>2</th>\n",
       "      <td>3.6</td>\n",
       "      <td>2.609847</td>\n",
       "      <td>3.680054</td>\n",
       "      <td>3.178887</td>\n",
       "      <td>7.286269</td>\n",
       "      <td>14.395925</td>\n",
       "      <td>5.102107</td>\n",
       "      <td>36.0</td>\n",
       "      <td>34.0</td>\n",
       "    </tr>\n",
       "    <tr>\n",
       "      <th>3</th>\n",
       "      <td>3.6</td>\n",
       "      <td>2.061110</td>\n",
       "      <td>1.358748</td>\n",
       "      <td>1.952873</td>\n",
       "      <td>8.810357</td>\n",
       "      <td>14.735399</td>\n",
       "      <td>11.513498</td>\n",
       "      <td>44.0</td>\n",
       "      <td>41.0</td>\n",
       "    </tr>\n",
       "    <tr>\n",
       "      <th>4</th>\n",
       "      <td>3.6</td>\n",
       "      <td>3.366531</td>\n",
       "      <td>2.982320</td>\n",
       "      <td>3.297976</td>\n",
       "      <td>6.604745</td>\n",
       "      <td>12.655585</td>\n",
       "      <td>11.194571</td>\n",
       "      <td>27.0</td>\n",
       "      <td>26.0</td>\n",
       "    </tr>\n",
       "  </tbody>\n",
       "</table>\n",
       "</div>"
      ],
      "text/plain": [
       "   pitch  yoffset_layer  yoffset_plane  zshift_layer  zshift_plane  \\\n",
       "0    3.6       2.214545       3.266638      1.743802      7.273689   \n",
       "1    3.6       1.976017       3.876997      2.514574      4.862383   \n",
       "2    3.6       2.609847       3.680054      3.178887      7.286269   \n",
       "3    3.6       2.061110       1.358748      1.952873      8.810357   \n",
       "4    3.6       3.366531       2.982320      3.297976      6.604745   \n",
       "\n",
       "   zshift_view      alpha  reconstructible  reco_passed_no_clones  \n",
       "0    14.064148   6.695237             33.0                   30.0  \n",
       "1    14.636042   6.923636             48.0                   47.0  \n",
       "2    14.395925   5.102107             36.0                   34.0  \n",
       "3    14.735399  11.513498             44.0                   41.0  \n",
       "4    12.655585  11.194571             27.0                   26.0  "
      ]
     },
     "execution_count": 23,
     "metadata": {},
     "output_type": "execute_result"
    }
   ],
   "source": [
    "df_init_design.head()"
   ]
  },
  {
   "cell_type": "code",
   "execution_count": 26,
   "metadata": {
    "collapsed": true
   },
   "outputs": [],
   "source": [
    "df_init_design.to_csv('data/initial_observations_'+str(N_EVENTS)+'.csv', index=False)\n",
    "df_init_design.to_csv('data/observations_'+str(N_EVENTS)+'_gp.csv', index=False)\n",
    "df_init_design.to_csv('data/observations_'+str(N_EVENTS)+'_ggpm.csv', index=False)"
   ]
  },
  {
   "cell_type": "markdown",
   "metadata": {},
   "source": [
    "# Main part of optimization"
   ]
  },
  {
   "cell_type": "code",
   "execution_count": 8,
   "metadata": {
    "collapsed": true
   },
   "outputs": [],
   "source": [
    "def convertor(disney_output):\n",
    "    \n",
    "    return float(json.loads(re.sub(r\"\\\\\", '', disney_output[15:-2]))['reconstructible']), float(json.loads(re.sub(r\"\\\\\", '', disney_output[15:-2]))['reco_passed_no_clones'])\n",
    "\n",
    "def simulate(point, n_events=N_EVENTS):\n",
    "    \n",
    "    descriptor = return_descriptor(point, n_events)\n",
    "    job = stub.CreateJob(Job(input=json.dumps(descriptor), kind=\"docker\")) \n",
    "    while True:\n",
    "        job = stub.GetJob(RequestWithId(id=job.id))\n",
    "        \n",
    "        if job.status in STATUS_FINAL:\n",
    "            break\n",
    "        time.sleep(10)\n",
    "    \n",
    "    return convertor(job.output)"
   ]
  },
  {
   "cell_type": "code",
   "execution_count": 9,
   "metadata": {
    "collapsed": true
   },
   "outputs": [],
   "source": [
    "observed_points = pd.read_csv('data/observations_'+str(N_EVENTS)+'_'+method+'.csv')\n",
    "\n",
    "stub = new_client()\n",
    "\n",
    "kernel = GPy.kern.RBF(len(space))\n",
    "\n",
    "n_iteration = 500"
   ]
  },
  {
   "cell_type": "code",
   "execution_count": null,
   "metadata": {},
   "outputs": [
    {
     "name": "stdout",
     "output_type": "stream",
     "text": [
      "bad point\n",
      "bad point\n",
      "bad point\n"
     ]
    }
   ],
   "source": [
    "X = observed_points.drop(['reconstructible', 'reco_passed_no_clones'], axis=1).values\n",
    "Y = observed_points[['reco_passed_no_clones']].values\n",
    "trials = observed_points[['reconstructible']].values\n",
    "\n",
    "for i in range(n_iteration):\n",
    "    \n",
    "    new_x = None\n",
    "    \n",
    "    if method=='gp':\n",
    "        model = GPy.models.GPRegression(X, Y/trials, kernel)\n",
    "        \n",
    "        model.optimize_restarts(num_restarts=10, verbose=False)\n",
    "        new_x, criterion_value = get_new_point(model, data=(X, Y/trials),\n",
    "                                               lower_bounds=lower_bounds, upper_bounds=upper_bounds, method='gaussian',\n",
    "                                               constraints=constraints_opt, optimization_method='SLSQP')\n",
    "        \n",
    "    elif method=='ggpm':\n",
    "        binomial = GPy.likelihoods.Binomial()\n",
    "        model = GPy.core.GP(X, Y, kernel=kernel, \n",
    "                            Y_metadata={'trials': trials},\n",
    "                            inference_method=GPy.inference.latent_function_inference.laplace.Laplace(),\n",
    "                            likelihood=binomial)\n",
    "        \n",
    "        model.optimize_restarts(num_restarts=10, verbose=False)\n",
    "        new_x, criterion_value = get_new_point(model, data=(X, Y),\n",
    "                                               lower_bounds=lower_bounds, upper_bounds=upper_bounds, method='laplace',\n",
    "                                               constraints=constraints_opt, optimization_method='SLSQP')\n",
    "    \n",
    "    reconstructible, passed_no_clones = simulate(new_x, N_EVENTS)\n",
    "    \n",
    "    if (N_EVENTS_high >= N_EVENTS+1) and (method == 'ggpm'):\n",
    "\n",
    "        if fidelity_decision(reconstructible, passed_no_clones, \n",
    "                             model.likelihood.gp_link.transf(np.min(model._raw_predict(X)[0])), \n",
    "                             treshold_proba):\n",
    "\n",
    "            reconstructible_additional, passed_no_clones_additional = simulate(new_x, N_EVENTS_high-N_EVENTS)\n",
    "\n",
    "            reconstructible += reconstructible_additional\n",
    "            passed_no_clones += passed_no_clones_additional\n",
    "            \n",
    "    observed_points.loc[len(observed_points)] = list(new_x) + [reconstructible, passed_no_clones]\n",
    "    observed_points.to_csv('data/observations_'+str(N_EVENTS)+'_'+method+'.csv', index=False)"
   ]
  },
  {
   "cell_type": "code",
   "execution_count": null,
   "metadata": {
    "collapsed": true
   },
   "outputs": [],
   "source": []
  }
 ],
 "metadata": {
  "kernelspec": {
   "display_name": "Python 3",
   "language": "python",
   "name": "python3"
  },
  "language_info": {
   "codemirror_mode": {
    "name": "ipython",
    "version": 3
   },
   "file_extension": ".py",
   "mimetype": "text/x-python",
   "name": "python",
   "nbconvert_exporter": "python",
   "pygments_lexer": "ipython3",
   "version": "3.6.3"
  }
 },
 "nbformat": 4,
 "nbformat_minor": 2
}
