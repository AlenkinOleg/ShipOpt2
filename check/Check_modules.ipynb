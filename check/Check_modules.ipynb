{
 "cells": [
  {
   "cell_type": "code",
   "execution_count": 1,
   "metadata": {
    "collapsed": true
   },
   "outputs": [],
   "source": [
    "import pandas as pd\n",
    "import numpy as np"
   ]
  },
  {
   "cell_type": "code",
   "execution_count": 2,
   "metadata": {
    "collapsed": true
   },
   "outputs": [],
   "source": [
    "df = pd.read_csv('hits.csv')"
   ]
  },
  {
   "cell_type": "code",
   "execution_count": 3,
   "metadata": {},
   "outputs": [
    {
     "data": {
      "text/html": [
       "<div>\n",
       "<style>\n",
       "    .dataframe thead tr:only-child th {\n",
       "        text-align: right;\n",
       "    }\n",
       "\n",
       "    .dataframe thead th {\n",
       "        text-align: left;\n",
       "    }\n",
       "\n",
       "    .dataframe tbody tr th {\n",
       "        vertical-align: top;\n",
       "    }\n",
       "</style>\n",
       "<table border=\"1\" class=\"dataframe\">\n",
       "  <thead>\n",
       "    <tr style=\"text-align: right;\">\n",
       "      <th></th>\n",
       "      <th>event_id</th>\n",
       "      <th>det_id</th>\n",
       "      <th>xtop</th>\n",
       "      <th>ytop</th>\n",
       "      <th>z</th>\n",
       "      <th>xbot</th>\n",
       "      <th>ybot</th>\n",
       "    </tr>\n",
       "  </thead>\n",
       "  <tbody>\n",
       "    <tr>\n",
       "      <th>0</th>\n",
       "      <td>3.0</td>\n",
       "      <td>50002184.0</td>\n",
       "      <td>106.428143</td>\n",
       "      <td>-64.836596</td>\n",
       "      <td>-1974.85</td>\n",
       "      <td>-106.428143</td>\n",
       "      <td>-64.836596</td>\n",
       "    </tr>\n",
       "    <tr>\n",
       "      <th>1</th>\n",
       "      <td>3.0</td>\n",
       "      <td>50102184.0</td>\n",
       "      <td>106.428143</td>\n",
       "      <td>-65.266596</td>\n",
       "      <td>-1972.25</td>\n",
       "      <td>-106.428143</td>\n",
       "      <td>-65.266596</td>\n",
       "    </tr>\n",
       "    <tr>\n",
       "      <th>2</th>\n",
       "      <td>3.0</td>\n",
       "      <td>50112185.0</td>\n",
       "      <td>106.428143</td>\n",
       "      <td>-66.126596</td>\n",
       "      <td>-1971.15</td>\n",
       "      <td>-106.428143</td>\n",
       "      <td>-66.126596</td>\n",
       "    </tr>\n",
       "    <tr>\n",
       "      <th>3</th>\n",
       "      <td>3.0</td>\n",
       "      <td>51102191.0</td>\n",
       "      <td>112.760866</td>\n",
       "      <td>-67.736597</td>\n",
       "      <td>-1962.25</td>\n",
       "      <td>-99.285438</td>\n",
       "      <td>-86.288245</td>\n",
       "    </tr>\n",
       "    <tr>\n",
       "      <th>4</th>\n",
       "      <td>3.0</td>\n",
       "      <td>51112192.0</td>\n",
       "      <td>112.835820</td>\n",
       "      <td>-68.593325</td>\n",
       "      <td>-1961.15</td>\n",
       "      <td>-99.210484</td>\n",
       "      <td>-87.144973</td>\n",
       "    </tr>\n",
       "  </tbody>\n",
       "</table>\n",
       "</div>"
      ],
      "text/plain": [
       "   event_id      det_id        xtop       ytop        z        xbot       ybot\n",
       "0       3.0  50002184.0  106.428143 -64.836596 -1974.85 -106.428143 -64.836596\n",
       "1       3.0  50102184.0  106.428143 -65.266596 -1972.25 -106.428143 -65.266596\n",
       "2       3.0  50112185.0  106.428143 -66.126596 -1971.15 -106.428143 -66.126596\n",
       "3       3.0  51102191.0  112.760866 -67.736597 -1962.25  -99.285438 -86.288245\n",
       "4       3.0  51112192.0  112.835820 -68.593325 -1961.15  -99.210484 -87.144973"
      ]
     },
     "execution_count": 3,
     "metadata": {},
     "output_type": "execute_result"
    }
   ],
   "source": [
    "df.head()"
   ]
  },
  {
   "cell_type": "code",
   "execution_count": 9,
   "metadata": {
    "collapsed": true
   },
   "outputs": [],
   "source": [
    "df['StatNb'] = df['det_id'] // 10000000\n",
    "df['ViewNb'] = (df['det_id'] - df['StatNb'] * 10000000) // 1000000\n",
    "df['PlaneNb'] = (df['det_id'] - df['StatNb'] * 10000000 - df['ViewNb'] * 1000000) // 100000\n",
    "df['LayerNb'] = (df['det_id'] - df['StatNb'] * 10000000 - df['ViewNb'] * 1000000 - df['PlaneNb'] * 100000) // 10000\n",
    "df['StrawNb'] = df['det_id'] - df['StatNb'] * 10000000 - df['ViewNb'] * 1000000 - df['PlaneNb'] * 100000 -\\\n",
    "                    df['LayerNb'] * 10000 - 2000"
   ]
  },
  {
   "cell_type": "code",
   "execution_count": 16,
   "metadata": {},
   "outputs": [
    {
     "name": "stdout",
     "output_type": "stream",
     "text": [
      "Pitch:  1.72\n"
     ]
    }
   ],
   "source": [
    "dots00 = df[(df['StatNb'].values<3) & ((df['ViewNb'].values==0) + (df['ViewNb'].values==3)) &\\\n",
    "             (df['PlaneNb'].values==0) & (df['LayerNb'].values==0)]['ytop'].values\n",
    "dots01 = df[(df['StatNb'].values<3) & ((df['ViewNb'].values==0) + (df['ViewNb'].values==3)) &\\\n",
    "             (df['PlaneNb'].values==1) & (df['LayerNb'].values==0)]['ytop'].values\n",
    "dots10 = df[(df['StatNb'].values<3) & ((df['ViewNb'].values==0) + (df['ViewNb'].values==3)) &\\\n",
    "             (df['PlaneNb'].values==0) & (df['LayerNb'].values==1)]['ytop'].values\n",
    "dots11 = df[(df['StatNb'].values<3) & ((df['ViewNb'].values==0) + (df['ViewNb'].values==3)) &\\\n",
    "             (df['PlaneNb'].values==1) & (df['LayerNb'].values==1)]['ytop'].values\n",
    "\n",
    "min_dist = np.hstack([np.diff(np.unique(dots00)), np.diff(np.unique(dots01)),\n",
    "           np.diff(np.unique(dots10)), np.diff(np.unique(dots11))]).min()\n",
    "\n",
    "print('Pitch: ', np.round(min_dist, 3))"
   ]
  },
  {
   "cell_type": "code",
   "execution_count": 11,
   "metadata": {},
   "outputs": [
    {
     "name": "stdout",
     "output_type": "stream",
     "text": [
      "ZShiftLayer:  1.1\n"
     ]
    }
   ],
   "source": [
    "z0 = df[(df['StatNb']==1) & (df['ViewNb']==0) & (df['PlaneNb'].values==0) & (df['LayerNb'].values==0)]['z'].mean()\n",
    "z1 = df[(df['StatNb']==1) & (df['ViewNb']==0) & (df['PlaneNb'].values==0) & (df['LayerNb'].values==1)]['z'].mean()\n",
    "\n",
    "print('ZShiftLayer: ', np.round(z1-z0, 3))"
   ]
  },
  {
   "cell_type": "code",
   "execution_count": 12,
   "metadata": {},
   "outputs": [
    {
     "name": "stdout",
     "output_type": "stream",
     "text": [
      "ZShiftPlane:  2.6\n"
     ]
    }
   ],
   "source": [
    "z0 = df[(df['StatNb']==1) & (df['ViewNb']==0) & (df['PlaneNb'].values==0) & (df['LayerNb'].values==0)]['z'].mean()\n",
    "z2 = df[(df['StatNb']==1) & (df['ViewNb']==0) & (df['PlaneNb'].values==1) & (df['LayerNb'].values==0)]['z'].mean()\n",
    "\n",
    "print('ZShiftPlane: ', np.round(z2-z0, 3))"
   ]
  },
  {
   "cell_type": "code",
   "execution_count": 14,
   "metadata": {},
   "outputs": [
    {
     "name": "stdout",
     "output_type": "stream",
     "text": [
      "angle:  5.0\n"
     ]
    }
   ],
   "source": [
    "xtop = df[(df['StatNb']==1) & (df['ViewNb']==1) & (df['PlaneNb']==0) & (df['LayerNb']==0)]['xtop'].values[0]\n",
    "ytop = df[(df['StatNb']==1) & (df['ViewNb']==1) & (df['PlaneNb']==0) & (df['LayerNb']==0)]['ytop'].values[0]\n",
    "xbot = df[(df['StatNb']==1) & (df['ViewNb']==1) & (df['PlaneNb']==0) & (df['LayerNb']==0)]['xbot'].values[0]\n",
    "ybot = df[(df['StatNb']==1) & (df['ViewNb']==1) & (df['PlaneNb']==0) & (df['LayerNb']==0)]['ybot'].values[0]\n",
    "\n",
    "print('angle: ', np.round(np.arctan((ytop - ybot) / (xtop - xbot)) * 180 / np.pi, 3))"
   ]
  },
  {
   "cell_type": "code",
   "execution_count": 15,
   "metadata": {},
   "outputs": [
    {
     "name": "stdout",
     "output_type": "stream",
     "text": [
      "ZShiftView:  10.0\n"
     ]
    }
   ],
   "source": [
    "z0 = df[(df['StatNb']==1) & (df['ViewNb']==0) & (df['PlaneNb'].values==0) & (df['LayerNb'].values==0)]['z'].mean()\n",
    "z3 = df[(df['StatNb']==1) & (df['ViewNb']==1) & (df['PlaneNb'].values==0) & (df['LayerNb'].values==0)]['z'].mean()\n",
    "\n",
    "print('ZShiftView: ', np.round(z3-z0, 3))"
   ]
  },
  {
   "cell_type": "code",
   "execution_count": 18,
   "metadata": {},
   "outputs": [
    {
     "name": "stdout",
     "output_type": "stream",
     "text": [
      "YOffsetLayer:  0.86\n"
     ]
    }
   ],
   "source": [
    "dots0 = df[(df['StatNb'].values<3) & ((df['ViewNb'].values==0) + (df['ViewNb'].values==3)) &\\\n",
    "             (df['PlaneNb'].values==0) & (df['LayerNb'].values==0)]['ytop'].values\n",
    "dots1 = df[(df['StatNb'].values<3) & ((df['ViewNb'].values==0) + (df['ViewNb'].values==3)) &\\\n",
    "             (df['PlaneNb'].values==0) & (df['LayerNb'].values==1)]['ytop'].values\n",
    "\n",
    "min_dist = np.hstack([np.diff(np.unique(np.hstack([dots0, dots1])))]).min()\n",
    "\n",
    "print('YOffsetLayer: ', np.round(min_dist, 3))"
   ]
  },
  {
   "cell_type": "code",
   "execution_count": 19,
   "metadata": {},
   "outputs": [
    {
     "name": "stdout",
     "output_type": "stream",
     "text": [
      "YOffsetPlane:  0.43\n"
     ]
    }
   ],
   "source": [
    "dots0 = df[(df['StatNb'].values<3) & ((df['ViewNb'].values==0) + (df['ViewNb'].values==3)) &\\\n",
    "             (df['PlaneNb'].values==0) & (df['LayerNb'].values==0)]['ytop'].values\n",
    "dots1 = df[(df['StatNb'].values<3) & ((df['ViewNb'].values==0) + (df['ViewNb'].values==3)) &\\\n",
    "             (df['PlaneNb'].values==1) & (df['LayerNb'].values==0)]['ytop'].values\n",
    "\n",
    "min_dist = np.hstack([np.diff(np.unique(np.hstack([dots0, dots1])))]).min()\n",
    "\n",
    "print('YOffsetPlane: ', np.round(min_dist, 3))"
   ]
  },
  {
   "cell_type": "code",
   "execution_count": null,
   "metadata": {
    "collapsed": true
   },
   "outputs": [],
   "source": []
  }
 ],
 "metadata": {
  "kernelspec": {
   "display_name": "Python 3",
   "language": "python",
   "name": "python3"
  },
  "language_info": {
   "codemirror_mode": {
    "name": "ipython",
    "version": 3
   },
   "file_extension": ".py",
   "mimetype": "text/x-python",
   "name": "python",
   "nbconvert_exporter": "python",
   "pygments_lexer": "ipython3",
   "version": "3.6.1"
  }
 },
 "nbformat": 4,
 "nbformat_minor": 2
}
