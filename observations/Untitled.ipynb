{
 "cells": [
  {
   "cell_type": "code",
   "execution_count": 10,
   "metadata": {
    "collapsed": true
   },
   "outputs": [],
   "source": [
    "import pandas as pd\n",
    "import numpy as np"
   ]
  },
  {
   "cell_type": "code",
   "execution_count": 47,
   "metadata": {
    "collapsed": true
   },
   "outputs": [],
   "source": [
    "df = pd.read_csv('observations.csv')"
   ]
  },
  {
   "cell_type": "code",
   "execution_count": 48,
   "metadata": {},
   "outputs": [
    {
     "data": {
      "text/html": [
       "<div>\n",
       "<style>\n",
       "    .dataframe thead tr:only-child th {\n",
       "        text-align: right;\n",
       "    }\n",
       "\n",
       "    .dataframe thead th {\n",
       "        text-align: left;\n",
       "    }\n",
       "\n",
       "    .dataframe tbody tr th {\n",
       "        vertical-align: top;\n",
       "    }\n",
       "</style>\n",
       "<table border=\"1\" class=\"dataframe\">\n",
       "  <thead>\n",
       "    <tr style=\"text-align: right;\">\n",
       "      <th></th>\n",
       "      <th>num</th>\n",
       "      <th>pitch</th>\n",
       "      <th>yoffset_layer</th>\n",
       "      <th>yoffset_plane</th>\n",
       "      <th>zshift_layer</th>\n",
       "      <th>zshift_plane</th>\n",
       "      <th>zshift_view</th>\n",
       "      <th>angle</th>\n",
       "      <th>objective</th>\n",
       "    </tr>\n",
       "  </thead>\n",
       "  <tbody>\n",
       "    <tr>\n",
       "      <th>0</th>\n",
       "      <td>0.0</td>\n",
       "      <td>1.720000</td>\n",
       "      <td>0.860000</td>\n",
       "      <td>0.430000</td>\n",
       "      <td>1.100000</td>\n",
       "      <td>2.600000</td>\n",
       "      <td>10.000000</td>\n",
       "      <td>5.0</td>\n",
       "      <td>1.0</td>\n",
       "    </tr>\n",
       "    <tr>\n",
       "      <th>1</th>\n",
       "      <td>1.0</td>\n",
       "      <td>2.847870</td>\n",
       "      <td>1.603585</td>\n",
       "      <td>2.571965</td>\n",
       "      <td>3.392437</td>\n",
       "      <td>19.162176</td>\n",
       "      <td>29.220789</td>\n",
       "      <td>5.0</td>\n",
       "      <td>NaN</td>\n",
       "    </tr>\n",
       "    <tr>\n",
       "      <th>2</th>\n",
       "      <td>2.0</td>\n",
       "      <td>2.301455</td>\n",
       "      <td>0.230564</td>\n",
       "      <td>1.219012</td>\n",
       "      <td>5.397841</td>\n",
       "      <td>7.069088</td>\n",
       "      <td>39.117870</td>\n",
       "      <td>5.0</td>\n",
       "      <td>NaN</td>\n",
       "    </tr>\n",
       "    <tr>\n",
       "      <th>3</th>\n",
       "      <td>3.0</td>\n",
       "      <td>2.757544</td>\n",
       "      <td>0.859005</td>\n",
       "      <td>0.210996</td>\n",
       "      <td>9.422131</td>\n",
       "      <td>12.414631</td>\n",
       "      <td>35.568977</td>\n",
       "      <td>5.0</td>\n",
       "      <td>0.0</td>\n",
       "    </tr>\n",
       "    <tr>\n",
       "      <th>4</th>\n",
       "      <td>4.0</td>\n",
       "      <td>3.164783</td>\n",
       "      <td>1.599624</td>\n",
       "      <td>0.922066</td>\n",
       "      <td>1.809154</td>\n",
       "      <td>18.473357</td>\n",
       "      <td>26.794025</td>\n",
       "      <td>5.0</td>\n",
       "      <td>NaN</td>\n",
       "    </tr>\n",
       "  </tbody>\n",
       "</table>\n",
       "</div>"
      ],
      "text/plain": [
       "   num     pitch  yoffset_layer  yoffset_plane  zshift_layer  zshift_plane  \\\n",
       "0  0.0  1.720000       0.860000       0.430000      1.100000      2.600000   \n",
       "1  1.0  2.847870       1.603585       2.571965      3.392437     19.162176   \n",
       "2  2.0  2.301455       0.230564       1.219012      5.397841      7.069088   \n",
       "3  3.0  2.757544       0.859005       0.210996      9.422131     12.414631   \n",
       "4  4.0  3.164783       1.599624       0.922066      1.809154     18.473357   \n",
       "\n",
       "   zshift_view  angle  objective  \n",
       "0    10.000000    5.0        1.0  \n",
       "1    29.220789    5.0        NaN  \n",
       "2    39.117870    5.0        NaN  \n",
       "3    35.568977    5.0        0.0  \n",
       "4    26.794025    5.0        NaN  "
      ]
     },
     "execution_count": 48,
     "metadata": {},
     "output_type": "execute_result"
    }
   ],
   "source": [
    "df"
   ]
  },
  {
   "cell_type": "code",
   "execution_count": 49,
   "metadata": {
    "collapsed": true
   },
   "outputs": [],
   "source": [
    "init = np.load('initial_design.npy')"
   ]
  },
  {
   "cell_type": "code",
   "execution_count": 22,
   "metadata": {},
   "outputs": [
    {
     "data": {
      "text/plain": [
       "array([[  2.84787007,   1.60358548,   2.57196492,   3.39243697,\n",
       "         19.16217561,  29.22078852,   5.        ],\n",
       "       [  2.30145477,   0.23056363,   1.21901163,   5.39784128,\n",
       "          7.06908837,  39.11786986,   5.        ],\n",
       "       [  2.75754428,   0.85900474,   0.21099631,   9.42213057,\n",
       "         12.41463064,  35.5689773 ,   5.        ],\n",
       "       [  3.16478322,   1.599624  ,   0.92206592,   1.80915351,\n",
       "         18.4733567 ,  26.79402468,   5.        ],\n",
       "       [  1.73361296,   1.38669493,   0.96108504,   5.00367209,\n",
       "         15.57613101,  30.7032298 ,   5.        ]])"
      ]
     },
     "execution_count": 22,
     "metadata": {},
     "output_type": "execute_result"
    }
   ],
   "source": [
    "init"
   ]
  },
  {
   "cell_type": "code",
   "execution_count": null,
   "metadata": {
    "collapsed": true
   },
   "outputs": [],
   "source": []
  }
 ],
 "metadata": {
  "kernelspec": {
   "display_name": "Python 2",
   "language": "python",
   "name": "python2"
  },
  "language_info": {
   "codemirror_mode": {
    "name": "ipython",
    "version": 3
   },
   "file_extension": ".py",
   "mimetype": "text/x-python",
   "name": "python",
   "nbconvert_exporter": "python",
   "pygments_lexer": "ipython3",
   "version": "3.6.1"
  }
 },
 "nbformat": 4,
 "nbformat_minor": 2
}
